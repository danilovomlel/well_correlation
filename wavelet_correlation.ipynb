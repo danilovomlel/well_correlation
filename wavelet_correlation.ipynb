{
 "cells": [
  {
   "cell_type": "markdown",
   "id": "2fd7627c-b076-4fa7-b06f-f88438df1180",
   "metadata": {},
   "source": [
    "# Setup"
   ]
  },
  {
   "cell_type": "code",
   "execution_count": null,
   "id": "5f23a299-23bf-498d-a638-2640f15b8b1d",
   "metadata": {},
   "outputs": [],
   "source": [
    "import matplotlib as mpl\n",
    "import matplotlib.pyplot as plt\n",
    "import matplotlib.ticker as ticker\n",
    "import numpy as np\n",
    "import lasio\n",
    "import pandas as pd\n",
    "import scipy.signal as signal\n",
    "import os\n",
    "import random\n",
    "from mpl_toolkits.axes_grid1 import make_axes_locatable\n",
    "from scipy.spatial import distance\n",
    "from sklearn import preprocessing\n",
    "from itertools import combinations\n",
    "import copy\n",
    "import pywt\n",
    "import scipy\n",
    "\n",
    "from lib.well_correlation.dtw.multiple_well_correlation import Dtw, MultipleDtw\n",
    "from lib.well_correlation.dtw.plotting import plot_cross_section"
   ]
  },
  {
   "cell_type": "code",
   "execution_count": null,
   "id": "ae1d5712-9a0a-4e94-9d2a-cf6423845632",
   "metadata": {},
   "outputs": [],
   "source": [
    "%matplotlib inline\n",
    "\n",
    "plt.rcParams['figure.figsize'] = (18, 10)\n",
    "plt.rcParams['axes.titlesize'] = 16"
   ]
  },
  {
   "cell_type": "code",
   "execution_count": null,
   "id": "6323b388-f2be-44c8-802b-5511263e24cc",
   "metadata": {},
   "outputs": [],
   "source": [
    "def las2csv(path):\n",
    "    csv_folder = os.path.join(path, 'CSV')\n",
    "    \n",
    "    if not os.path.exists(csv_folder):\n",
    "        os.makedirs(csv_folder)\n",
    "\n",
    "    for file in os.listdir(path):        \n",
    "        if not (file.endswith('.las')):\n",
    "            continue\n",
    "    \n",
    "        las_path = os.path.join(path,file)\n",
    "        csv_name = file.split('.')[0] + '.csv'\n",
    "        df_data = lasio.read(las_path).df()\n",
    "        \n",
    "        save_path = os.path.join(csv_folder, csv_name)\n",
    "        df_data.to_csv(save_path)"
   ]
  },
  {
   "cell_type": "code",
   "execution_count": null,
   "id": "04aec643-ba11-4697-8cce-7b1519136e2f",
   "metadata": {},
   "outputs": [],
   "source": [
    "def plot_logs(l: list):\n",
    "    N = len(l)\n",
    "    \n",
    "    fig, ax = plt.subplots(figsize=(2 * N, 10))\n",
    "    \n",
    "    xmin = np.inf\n",
    "    xmax = -np.inf\n",
    "    \n",
    "    acc = 0\n",
    "    for i in range(N):\n",
    "        ax.plot(l[i][:, 1] + acc, l[i][:, 0])\n",
    "        xmin = min(xmin, np.min(l[i][:, 0]))\n",
    "        xmax = max(xmax, np.max(l[i][:, 0]))\n",
    "        acc += np.max(l[i][:, 1])\n",
    "         \n",
    "    ax.set(\n",
    "        ylim = (xmax, xmin),\n",
    "        ylabel = \"Depth\",\n",
    "        xlabel = \"Logs\"\n",
    "    )\n",
    "    \n",
    "    return fig, ax"
   ]
  },
  {
   "cell_type": "markdown",
   "id": "828eb848-7f3b-4f29-894d-25747eb2afe4",
   "metadata": {},
   "source": [
    "# Correlação em Salta"
   ]
  },
  {
   "cell_type": "code",
   "execution_count": null,
   "id": "cf015cc1-6e81-49c8-83c0-a0387b8d53db",
   "metadata": {},
   "outputs": [],
   "source": [
    "df = {}\n",
    "wells = range(1, 7)\n",
    "\n",
    "for i in wells:\n",
    "    # dropna: remove valores nan\n",
    "    df[i] = pd.read_csv(f'data/SaltaCSV/well_{i}_GR.csv').sort_values('DEPT').dropna()"
   ]
  },
  {
   "cell_type": "code",
   "execution_count": null,
   "id": "06a3cc65-6afa-4d95-83bf-70c34eb6f8a6",
   "metadata": {},
   "outputs": [],
   "source": [
    "mdtw = MultipleDtw(norm=0.125)\n",
    "\n",
    "logs = []\n",
    "for i in wells:\n",
    "    logs.append(mdtw.add_log(df[i][['DEPT', 'GR']].dropna().values))\n",
    "\n",
    "for i, j in combinations(logs, 2):\n",
    "    mdtw.add_correlation(i, j)\n",
    "\n",
    "warped = mdtw.delta_query()\n",
    "plot_logs(list(map(lambda x: x.values, warped)))"
   ]
  },
  {
   "cell_type": "markdown",
   "id": "96eeafa1-eeb1-48d9-9be6-c88eb7b94122",
   "metadata": {},
   "source": [
    "# Onduletas 🌊"
   ]
  },
  {
   "cell_type": "code",
   "execution_count": null,
   "id": "6fa56735-263f-431c-8476-2f5ad8791d92",
   "metadata": {},
   "outputs": [],
   "source": [
    "# def wavelet(data, onduleta = signal.ricker, width = (32,768)):\n",
    "#     widths = np.arange(width[0], width[1])\n",
    "#     cwt = signal.cwt(data, onduleta, widths).T\n",
    "#     cwt /= np.max(np.abs(cwt))\n",
    "#     # cwt = (cwt - cwt.mean()) / cwt.std()\n",
    "#     return cwt\n",
    "\n",
    "# fig,ax = plt.subplots()\n",
    "# onduleta = wavelet(df[1]['GR'])\n",
    "# ax.imshow(onduleta, cmap=\"seismic\", aspect='auto', vmax=0.1, vmin=-0.1)\n",
    "\n",
    "def wavelet(y, x, scales=32, wavelet = 'morl'):\n",
    "    coefs, freqs = pywt.cwt(\n",
    "        data=y,\n",
    "        scales=range(1, scales),\n",
    "        wavelet=wavelet,\n",
    "        sampling_period=x.iloc[0]-x.iloc[1] # iloc: linha 0 pode não existir\n",
    "    )\n",
    "    return coefs\n",
    "\n",
    "def slice(coefs, b):\n",
    "    return [np.sum(coefs[:b, i]) for i in range(len(coefs[0]))]\n",
    "\n",
    "def plot_wavelet(y, x, coefs, b, proj, title):\n",
    "    fig, ax = plt.subplots(nrows=1, ncols=3)\n",
    "\n",
    "    x_max = np.max(x)\n",
    "    x_min = np.min(x)\n",
    "    \n",
    "    # sinal original\n",
    "    ax[0].plot(y, x)\n",
    "    ax[0].set_ylim(x_min, x_max)\n",
    "    ax[0].set_xlabel('GR')\n",
    "    \n",
    "    # coeficientes da wavelet\n",
    "    coefs_rotated = scipy.ndimage.rotate(coefs, 90)\n",
    "    ax[1].imshow(coefs_rotated, aspect='auto')\n",
    "    ax[1].set_xlabel('Coefficients')\n",
    "\n",
    "    # slice\n",
    "    ax[2].set_ylim(x_min, x_max)    \n",
    "    ax[2].barh(\n",
    "        np.arange(len(proj)),\n",
    "        proj,\n",
    "        antialiased=True\n",
    "    )\n",
    "\n",
    "    # linha vertical nos coeficientes\n",
    "    ax[1].plot(\n",
    "        [b for i in range(len(coefs[0]))],\n",
    "        range(len(coefs[0])),\n",
    "        'r-',\n",
    "        linewidth=1,\n",
    "        antialiased=True\n",
    "    )\n",
    "\n",
    "    # configurações gerais de plotting\n",
    "    for i in range(len(ax)):\n",
    "        ax[i].invert_yaxis()\n",
    "        if i > 0:\n",
    "            ax[i].get_yaxis().set_visible(False)\n",
    "        if i > 1:\n",
    "            ax[i].set_ylim(\n",
    "                ax[i].patches[0].get_y(),\n",
    "                ax[i].patches[-1].get_y()\n",
    "            )\n",
    "    \n",
    "    fig = plt.gcf()\n",
    "    fig.suptitle(f\"Well {title}\", fontsize=14)"
   ]
  },
  {
   "cell_type": "code",
   "execution_count": null,
   "id": "10753028-ea7c-420a-b478-5aae41d80b65",
   "metadata": {},
   "outputs": [],
   "source": [
    "b = 15\n",
    "for well in wells:\n",
    "    x = df[well]['DEPT']\n",
    "    y = df[well]['GR']\n",
    "    \n",
    "    coefs = wavelet(y, x)\n",
    "    proj = slice(coefs, b)\n",
    "    plot_wavelet(y, x, coefs, b, proj, well)"
   ]
  },
  {
   "cell_type": "markdown",
   "id": "15d41a7b-fd0c-433b-8288-cdc795fc6e0a",
   "metadata": {},
   "source": [
    "# Correlação com Onduletas"
   ]
  },
  {
   "cell_type": "code",
   "execution_count": null,
   "id": "8989d725-4bda-4af8-b69a-ee37b7fa5db0",
   "metadata": {},
   "outputs": [],
   "source": [
    "scales = 32\n",
    "slices = [1]\n",
    "\n",
    "wavelets = {}\n",
    "\n",
    "for well in wells:\n",
    "    x = df[well]['DEPT']\n",
    "    y = df[well]['GR']\n",
    "    coef = wavelet(y, x)\n",
    "    \n",
    "    wavelets[well] = pd.DataFrame({'DEPT': x})\n",
    "    for b in slices:\n",
    "        proj = slice(coef, b)\n",
    "        wavelets[well][b] = proj\n",
    "\n",
    "mdtw = MultipleDtw()\n",
    "logs = []\n",
    "\n",
    "for well in wells:\n",
    "    logs.append(mdtw.add_log(wavelets[well].dropna().values))\n",
    "\n",
    "for i, j in combinations(logs, 2):\n",
    "    mdtw.add_correlation(i, j)\n",
    "    \n",
    "# warped = mdtw.delta_query()\n",
    "# plot_logs(list(map(lambda x: x.values, warped)))"
   ]
  },
  {
   "cell_type": "code",
   "execution_count": null,
   "id": "c05aadc3-136a-458f-9f9b-0aa0b559c208",
   "metadata": {},
   "outputs": [],
   "source": []
  }
 ],
 "metadata": {
  "language_info": {
   "name": "python"
  }
 },
 "nbformat": 4,
 "nbformat_minor": 5
}
